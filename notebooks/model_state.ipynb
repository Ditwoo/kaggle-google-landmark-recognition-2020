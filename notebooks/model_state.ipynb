{
 "cells": [
  {
   "cell_type": "code",
   "execution_count": 1,
   "metadata": {},
   "outputs": [],
   "source": [
    "import os\n",
    "import sys\n",
    "from pathlib import Path\n",
    "\n",
    "import numpy as np\n",
    "import pandas as ps\n",
    "\n",
    "import torch\n",
    "import torch.nn as nn\n",
    "\n",
    "sys.path.append(\"../src\")\n",
    "\n",
    "from models import EncoderWithHead\n",
    "from models.efficientnets import EfficientNetEncoder\n",
    "from models.heads import CosFace\n",
    "from batteries import load_checkpoint"
   ]
  },
  {
   "cell_type": "code",
   "execution_count": 2,
   "metadata": {},
   "outputs": [
    {
     "name": "stdout",
     "output_type": "stream",
     "text": [
      "Loaded pretrained weights for efficientnet-b0\n",
      "<= Loaded model from '../logs/full_set4/stage_0/best.pth'\n",
      "Metrics:\n",
      "{'train': {'accuracy': 0.25638288278730265,\n",
      "           'gap': 0.1396482475654683,\n",
      "           'loss': 7.653432763628554},\n",
      " 'valid': {'accuracy': 0.20048862632508835,\n",
      "           'gap': 0.07968151608114911,\n",
      "           'loss': 9.832394806740561}}\n"
     ]
    }
   ],
   "source": [
    "EMBEDDING_SIZE = 512\n",
    "NUM_CLASSESS = 81313\n",
    "\n",
    "\n",
    "model = EncoderWithHead(\n",
    "    EfficientNetEncoder(\"efficientnet-b0\", EMBEDDING_SIZE, bias=False),\n",
    "    CosFace(EMBEDDING_SIZE, NUM_CLASSESS, None),\n",
    ")\n",
    "load_checkpoint(\"../logs/full_set4/stage_0/best.pth\", model)\n",
    "\n",
    "\n",
    "# model = EncoderWithHead(\n",
    "#     EfficientNetEncoder(\"efficientnet-b5\", EMBEDDING_SIZE, bias=True),\n",
    "#     CosFace(EMBEDDING_SIZE, NUM_CLASSESS, None),\n",
    "# )\n",
    "# load_checkpoint(\"../logs/effnet-b5/stage_0/best.pth\", model)"
   ]
  },
  {
   "cell_type": "code",
   "execution_count": 3,
   "metadata": {},
   "outputs": [],
   "source": [
    "torch.save({\n",
    "    \"model_state_dict\": model.encoder.state_dict()\n",
    "}, \"efficientnet_b0_c2.pth\")"
   ]
  },
  {
   "cell_type": "code",
   "execution_count": null,
   "metadata": {},
   "outputs": [],
   "source": []
  }
 ],
 "metadata": {
  "kernelspec": {
   "display_name": "Python 3.7.4 64-bit ('torch': conda)",
   "language": "python",
   "name": "python37464bittorchcondab46d9803850a4193b40c5aded830a323"
  },
  "language_info": {
   "codemirror_mode": {
    "name": "ipython",
    "version": 3
   },
   "file_extension": ".py",
   "mimetype": "text/x-python",
   "name": "python",
   "nbconvert_exporter": "python",
   "pygments_lexer": "ipython3",
   "version": "3.7.4"
  }
 },
 "nbformat": 4,
 "nbformat_minor": 4
}
